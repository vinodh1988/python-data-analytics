{
 "cells": [
  {
   "cell_type": "markdown",
   "id": "a6ade891",
   "metadata": {},
   "source": [
    "# Relational Operators in Python\n",
    "\n",
    "Relational operators are used to compare values. They return a Boolean value (`True` or `False`) based on the comparison.\n",
    "\n",
    "| Operator | Description           | Example      |\n",
    "|----------|----------------------|--------------|\n",
    "| `==`     | Equal to             | `a == b`     |\n",
    "| `!=`     | Not equal to         | `a != b`     |\n",
    "| `>`      | Greater than         | `a > b`      |\n",
    "| `<`      | Less than            | `a < b`      |\n",
    "| `>=`     | Greater than or equal| `a >= b`     |\n",
    "| `<=`     | Less than or equal   | `a <= b`     |\n",
    "\n",
    "**Example:**\n",
    "```python\n",
    "a = 5\n",
    "b = 3\n",
    "print(a > b)   # True\n",
    "print(a == b)  # False\n",
    "```"
   ]
  },
  {
   "cell_type": "code",
   "execution_count": 2,
   "id": "bd196af8",
   "metadata": {},
   "outputs": [
    {
     "name": "stdout",
     "output_type": "stream",
     "text": [
      "We shall read you the records\n"
     ]
    }
   ],
   "source": [
    "data=int(input(\"How many records you want to read?\"))\n",
    "if data<=0:\n",
    "    print(\"Invalid input\")\n",
    "else:\n",
    "    print(\"We shall read you the records\")\n",
    "\n"
   ]
  }
 ],
 "metadata": {
  "kernelspec": {
   "display_name": "Python 3",
   "language": "python",
   "name": "python3"
  },
  "language_info": {
   "codemirror_mode": {
    "name": "ipython",
    "version": 3
   },
   "file_extension": ".py",
   "mimetype": "text/x-python",
   "name": "python",
   "nbconvert_exporter": "python",
   "pygments_lexer": "ipython3",
   "version": "3.11.2"
  }
 },
 "nbformat": 4,
 "nbformat_minor": 5
}
