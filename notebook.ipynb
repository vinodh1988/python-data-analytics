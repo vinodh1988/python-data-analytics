{
 "cells": [
  {
   "cell_type": "code",
   "execution_count": 8,
   "id": "6a9c57c0",
   "metadata": {},
   "outputs": [
    {
     "name": "stdout",
     "output_type": "stream",
     "text": [
      "{'Alice', 'Eve', 'David', 'Charlie', 'Bob'}\n",
      "Alice\n",
      "Eve\n",
      "David\n",
      "Charlie\n",
      "Bob\n",
      "This statement is outside the loop\n"
     ]
    }
   ],
   "source": [
    "names={\"Alice\", \"Bob\", \"Charlie\", \"David\", \"David\",\"Eve\"}\n",
    "print(names)\n",
    "# A set is an unordered collection of unique elements.\n",
    "#print(names[0])\n",
    "for x in names:\n",
    "    print(x)\n",
    "print(\"This statement is outside the loop\")"
   ]
  },
  {
   "cell_type": "code",
   "execution_count": 17,
   "id": "6af1d98f",
   "metadata": {},
   "outputs": [
    {
     "name": "stdout",
     "output_type": "stream",
     "text": [
      "['Alice', 'Grace', 'Charlie', 'Joe', 'David', 'Frank']\n",
      "['Alice', 'Grace', 'Charlie', 'Joe', 'David', 'Frank']\n",
      "['Alice', 'Charlie', 'David', 'Frank', 'Grace', 'Joe']\n",
      "['Alice', 'Charlie', 'David', 'Frank', 'Grace', 'Joe', 'Zara', 'Mahnaz', 'Ayan', 'Daisy']\n"
     ]
    }
   ],
   "source": [
    "print(names) # set\n",
    "names=list(names)\n",
    "print(names) # list\n",
    "names.sort()\n",
    "print(names) # sorted list\n",
    "# printing list\n",
    "fewnames=[\"Zara\",\"Mahnaz\",\"Ayan\",\"Daisy\"]\n",
    "names.extend(fewnames)\n",
    "print(names) # sorted list with fewnames added"
   ]
  },
  {
   "cell_type": "code",
   "execution_count": 19,
   "id": "251a0b6d",
   "metadata": {},
   "outputs": [
    {
     "name": "stdout",
     "output_type": "stream",
     "text": [
      "('India', 'USA', 'UK', 'Germany', 'France')\n",
      "India\n"
     ]
    }
   ],
   "source": [
    "countries=(\"India\",\"USA\",\"UK\",\"Germany\",\"France\")\n",
    "print(countries) # tuple\n",
    "print(countries[0]) # accessing tuple element\n",
    "# countries[0]=\"China\" # tuples are immutable"
   ]
  },
  {
   "cell_type": "code",
   "execution_count": 21,
   "id": "b507c319",
   "metadata": {},
   "outputs": [
    {
     "name": "stdout",
     "output_type": "stream",
     "text": [
      "{'name': 'John', 'age': 30, 'city': 'New York'}\n",
      "John\n",
      "30\n",
      "{'name': 'John', 'age': 31, 'city': 'New York'}\n",
      "{'name': 'John', 'age': 31, 'city': 'New York', 'job': 'Engineer'}\n"
     ]
    }
   ],
   "source": [
    "person={\"name\":\"John\",\"age\":30,\"city\":\"New York\"}\n",
    "print(person) # dictionary\n",
    "print(person[\"name\"]) # accessing dictionary value\n",
    "print(person.get(\"age\")) # accessing dictionary value using get() method\n",
    "person[\"age\"]=31 # updating dictionary value\n",
    "print(person) # updated dictionary\n",
    "person[\"job\"]=\"Engineer\" # adding new key-value pair\n",
    "print(person) # updated dictionary"
   ]
  },
  {
   "cell_type": "code",
   "execution_count": 24,
   "id": "63fbe6a4",
   "metadata": {},
   "outputs": [
    {
     "name": "stdout",
     "output_type": "stream",
     "text": [
      "name: John\n",
      "age: 31\n",
      "city: New York\n",
      "job: Engineer\n"
     ]
    }
   ],
   "source": [
    "for key in person:\n",
    "    print(f\"{key}: {person[key]}\")"
   ]
  }
 ],
 "metadata": {
  "kernelspec": {
   "display_name": "Python 3",
   "language": "python",
   "name": "python3"
  },
  "language_info": {
   "codemirror_mode": {
    "name": "ipython",
    "version": 3
   },
   "file_extension": ".py",
   "mimetype": "text/x-python",
   "name": "python",
   "nbconvert_exporter": "python",
   "pygments_lexer": "ipython3",
   "version": "3.11.2"
  }
 },
 "nbformat": 4,
 "nbformat_minor": 5
}
