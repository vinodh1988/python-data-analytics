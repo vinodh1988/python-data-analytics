{
 "cells": [
  {
   "cell_type": "markdown",
   "id": "a6ade891",
   "metadata": {},
   "source": [
    "# Relational Operators in Python\n",
    "\n",
    "Relational operators are used to compare values. They return a Boolean value (`True` or `False`) based on the comparison.\n",
    "\n",
    "| Operator | Description           | Example      |\n",
    "|----------|----------------------|--------------|\n",
    "| `==`     | Equal to             | `a == b`     |\n",
    "| `!=`     | Not equal to         | `a != b`     |\n",
    "| `>`      | Greater than         | `a > b`      |\n",
    "| `<`      | Less than            | `a < b`      |\n",
    "| `>=`     | Greater than or equal| `a >= b`     |\n",
    "| `<=`     | Less than or equal   | `a <= b`     |\n",
    "\n",
    "**Example:**\n",
    "```python\n",
    "a = 5\n",
    "b = 3\n",
    "print(a > b)   # True\n",
    "print(a == b)  # False\n",
    "```"
   ]
  },
  {
   "cell_type": "code",
   "execution_count": null,
   "id": "bd196af8",
   "metadata": {},
   "outputs": [],
   "source": [
    "data=int(input(\"How many records you want to read?\"))\n",
    "if data<=0:\n",
    "    print(\"Invalid input\")\n",
    "else:\n",
    "    print(\"We shall read you the records\")\n",
    "\n"
   ]
  },
  {
   "cell_type": "code",
   "execution_count": 1,
   "id": "3a6c4d0e",
   "metadata": {},
   "outputs": [
    {
     "name": "stdout",
     "output_type": "stream",
     "text": [
      "Grade A++\n"
     ]
    }
   ],
   "source": [
    "percentage=93.34\n",
    "if percentage>90:\n",
    "    print(\"Grade A++\")\n",
    "elif percentage>80:\n",
    "    print(\"Grade A+\")\n",
    "elif percentage>70:\n",
    "    print(\"Grade A\")\n",
    "elif percentage>60:\n",
    "    print(\"Grade B\")\n",
    "elif percentage>50:\n",
    "    print(\"Grade C\")\n",
    "else:\n",
    "    print(\"Fail\")"
   ]
  },
  {
   "cell_type": "markdown",
   "id": "8303f5f3",
   "metadata": {},
   "source": [
    "# Iterative Statements in Python\n",
    "\n",
    "Iterative statements, also known as loops, are used to execute a block of code multiple times. Python provides two main types of loops:\n",
    "\n",
    "## 1. `for` Loop\n",
    "\n",
    "The `for` loop is used to iterate over a sequence (such as a list, tuple, dictionary, set, or string).\n",
    "\n",
    "**Example:**\n",
    "```python\n",
    "for i in range(5):\n",
    "    print(i)\n",
    "```\n",
    "\n",
    "## 2. `while` Loop\n",
    "\n",
    "The `while` loop repeats as long as a condition is `True`.\n",
    "\n",
    "**Example:**\n",
    "```python\n",
    "count = 0\n",
    "while count < 5:\n",
    "    print(count)\n",
    "    count += 1\n",
    "```\n",
    "\n",
    "Both loops are useful for tasks that require repetition, such as processing items in a list or performing an action until a condition is met."
   ]
  },
  {
   "cell_type": "code",
   "execution_count": 2,
   "id": "b8ba99ad",
   "metadata": {},
   "outputs": [
    {
     "name": "stdout",
     "output_type": "stream",
     "text": [
      "1\n",
      "2\n",
      "3\n",
      "4\n",
      "5\n"
     ]
    }
   ],
   "source": [
    "i=1\n",
    "while i<=5:\n",
    "    print(i)\n",
    "    i+=1 # i=i+1"
   ]
  }
 ],
 "metadata": {
  "kernelspec": {
   "display_name": "Python 3",
   "language": "python",
   "name": "python3"
  },
  "language_info": {
   "codemirror_mode": {
    "name": "ipython",
    "version": 3
   },
   "file_extension": ".py",
   "mimetype": "text/x-python",
   "name": "python",
   "nbconvert_exporter": "python",
   "pygments_lexer": "ipython3",
   "version": "3.11.2"
  }
 },
 "nbformat": 4,
 "nbformat_minor": 5
}
