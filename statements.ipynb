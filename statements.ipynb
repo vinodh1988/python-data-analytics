{
 "cells": [
  {
   "cell_type": "markdown",
   "id": "a6ade891",
   "metadata": {},
   "source": [
    "# Relational Operators in Python\n",
    "\n",
    "Relational operators are used to compare values. They return a Boolean value (`True` or `False`) based on the comparison.\n",
    "\n",
    "| Operator | Description           | Example      |\n",
    "|----------|----------------------|--------------|\n",
    "| `==`     | Equal to             | `a == b`     |\n",
    "| `!=`     | Not equal to         | `a != b`     |\n",
    "| `>`      | Greater than         | `a > b`      |\n",
    "| `<`      | Less than            | `a < b`      |\n",
    "| `>=`     | Greater than or equal| `a >= b`     |\n",
    "| `<=`     | Less than or equal   | `a <= b`     |\n",
    "\n",
    "**Example:**\n",
    "```python\n",
    "a = 5\n",
    "b = 3\n",
    "print(a > b)   # True\n",
    "print(a == b)  # False\n",
    "```"
   ]
  },
  {
   "cell_type": "code",
   "execution_count": null,
   "id": "bd196af8",
   "metadata": {},
   "outputs": [],
   "source": [
    "data=input(\"How many records you want to read?\")\n",
    "if data<=0:\n",
    "    print(\"Invalid input\")\n",
    "else:\n",
    "    print(\"We shall read you the records\")\n",
    "\n"
   ]
  }
 ],
 "metadata": {
  "language_info": {
   "name": "python"
  }
 },
 "nbformat": 4,
 "nbformat_minor": 5
}
