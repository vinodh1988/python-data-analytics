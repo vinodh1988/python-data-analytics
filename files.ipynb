{
 "cells": [
  {
   "cell_type": "code",
   "execution_count": 5,
   "id": "782fd6e5",
   "metadata": {},
   "outputs": [
    {
     "name": "stdout",
     "output_type": "stream",
     "text": [
      "SNo\tName\tCity\n",
      "-------------------------------------------------\n",
      "1   Alice Johnson    New York\n",
      "2   Brian Smith    Los Angeles\n",
      "3   Carla Martinez    Chicago\n",
      "4   David Lee    Houston\n",
      "5   Emily Clark    Phoenix\n",
      "6   Frank Miller    Philadelphia\n",
      "7   Grace Kim    San Antonio\n",
      "8   Henry Wilson    San Diego\n",
      "9   Irene Chen    Dallas\n",
      "10   Jack Brown    San Jose\n",
      "11   Karen Davis    Austin\n",
      "12   Leo Martinez    Jacksonville\n",
      "13   Mona Patel    Fort Worth\n",
      "14   Nathan Scott    Columbus\n",
      "15   Olivia Turner    Charlotte\n",
      "16   Paul Walker    San Francisco\n",
      "17   Quinn Harris    Indianapolis\n",
      "18   Rachel Adams    Seattle\n",
      "19   Sam Evans    Denver\n",
      "20   Tina Brooks    Washington\n",
      "21   Uma Singh    Boston\n",
      "22   Victor Gomez    El Paso\n",
      "23   Wendy Hall    Nashville\n",
      "24   Xavier Reed    Detroit\n",
      "25   Yara Flores    Oklahoma City\n",
      "26   Zane Cooper    Las Vegas\n",
      "27   Amy Stewart    Louisville\n",
      "28   Ben Carter    Baltimore\n",
      "29   Cindy Morgan    Milwaukee\n",
      "30   Derek Foster    Albuquerque\n",
      "31   Ella Price    Tucson\n",
      "32   Fred Young    Fresno\n",
      "33   Gina Bell    Sacramento\n",
      "34   Hank Rivera    Mesa\n",
      "35   Isabel Torres    Kansas City\n",
      "36   Jake Murphy    Atlanta\n",
      "37   Kylie Ross    Omaha\n",
      "38   Liam Wood    Colorado Springs\n",
      "39   Mia King    Raleigh\n",
      "40   Noah Baker    Miami\n",
      "41   Olga Perez    Long Beach\n",
      "42   Peter Gray    Virginia Beach\n",
      "43   Queen Lin    Oakland\n",
      "44   Ryan Kim    Minneapolis\n",
      "45   Sara Moore    Tulsa\n",
      "46   Tommy Lee    Arlington\n",
      "47   Ursula Grant    New Orleans\n",
      "48   Vera Fox    Wichita\n",
      "49   Will Nash    Cleveland\n",
      "50   Xena Hunt    Tampa\n"
     ]
    }
   ],
   "source": [
    "import json\n",
    "\n",
    "with open('people.json', 'r') as file:\n",
    "    people = json.load(file) # list of dictionaries\n",
    "\n",
    "#print(people)\n",
    "print(\"SNo\\tName\\tCity\")\n",
    "print(\"-------------------------------------------------\")\n",
    "for person in people:\n",
    "    print(f\"{person['sno']}   {person['name']}    {person['city']}\")"
   ]
  }
 ],
 "metadata": {
  "kernelspec": {
   "display_name": "Python 3",
   "language": "python",
   "name": "python3"
  },
  "language_info": {
   "codemirror_mode": {
    "name": "ipython",
    "version": 3
   },
   "file_extension": ".py",
   "mimetype": "text/x-python",
   "name": "python",
   "nbconvert_exporter": "python",
   "pygments_lexer": "ipython3",
   "version": "3.11.2"
  }
 },
 "nbformat": 4,
 "nbformat_minor": 5
}
