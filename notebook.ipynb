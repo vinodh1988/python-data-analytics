{
 "cells": [
  {
   "cell_type": "code",
   "execution_count": 8,
   "id": "6a9c57c0",
   "metadata": {},
   "outputs": [
    {
     "name": "stdout",
     "output_type": "stream",
     "text": [
      "{'Alice', 'Eve', 'David', 'Charlie', 'Bob'}\n",
      "Alice\n",
      "Eve\n",
      "David\n",
      "Charlie\n",
      "Bob\n",
      "This statement is outside the loop\n"
     ]
    }
   ],
   "source": [
    "names={\"Alice\", \"Bob\", \"Charlie\", \"David\", \"David\",\"Eve\"}\n",
    "print(names)\n",
    "# A set is an unordered collection of unique elements.\n",
    "#print(names[0])\n",
    "for x in names:\n",
    "    print(x)\n",
    "print(\"This statement is outside the loop\")"
   ]
  },
  {
   "cell_type": "code",
   "execution_count": null,
   "id": "6af1d98f",
   "metadata": {},
   "outputs": [
    {
     "name": "stdout",
     "output_type": "stream",
     "text": [
      "['Alice', 'Eve', 'David', 'Charlie', 'Bob']\n",
      "['Alice', 'Eve', 'David', 'Charlie', 'Bob']\n",
      "['Alice', 'Bob', 'Charlie', 'David', 'Eve']\n"
     ]
    }
   ],
   "source": [
    "print(names) # set\n",
    "names=list(names)\n",
    "print(names) # list\n",
    "names.sort()\n",
    "print(names) # sorted list\n",
    "# printing list"
   ]
  }
 ],
 "metadata": {
  "kernelspec": {
   "display_name": "Python 3",
   "language": "python",
   "name": "python3"
  },
  "language_info": {
   "codemirror_mode": {
    "name": "ipython",
    "version": 3
   },
   "file_extension": ".py",
   "mimetype": "text/x-python",
   "name": "python",
   "nbconvert_exporter": "python",
   "pygments_lexer": "ipython3",
   "version": "3.11.2"
  }
 },
 "nbformat": 4,
 "nbformat_minor": 5
}
