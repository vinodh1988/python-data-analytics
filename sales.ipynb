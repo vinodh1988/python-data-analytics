{
 "cells": [
  {
   "cell_type": "code",
   "execution_count": 9,
   "id": "f00a0b77",
   "metadata": {},
   "outputs": [
    {
     "name": "stdout",
     "output_type": "stream",
     "text": [
      "Unique branch names: ['Lakeshore' 'Sunset Boulevard' 'Greenfield' 'West End' 'Riverside'\n",
      " 'Eastside' 'Hilltop' 'Downtown' 'Uptown' 'Central Park']\n",
      "Unique years: [2023 2024 2022]\n",
      "Unique Months: ['February' 'June' 'May' 'July' 'October' 'August' 'November' 'March'\n",
      " 'December' 'January' 'April' 'September']\n"
     ]
    }
   ],
   "source": [
    "import pandas as pd\n",
    "\n",
    "df = pd.read_csv('sales.csv')\n",
    "\n",
    "# Print unique branch names\n",
    "print(\"Unique branch names:\", df['branch'].unique())\n",
    "\n",
    "# Print unique years\n",
    "print(\"Unique years:\", df['year'].unique())\n",
    "\n",
    "print(\"Unique Months:\", df['month'].unique())"
   ]
  },
  {
   "cell_type": "code",
   "execution_count": 11,
   "id": "2eb2b961",
   "metadata": {},
   "outputs": [
    {
     "name": "stdout",
     "output_type": "stream",
     "text": [
      "Average sales by branch:\n",
      " branch\n",
      "Central Park        5471.136364\n",
      "Downtown            5409.366071\n",
      "Eastside            5342.270833\n",
      "Greenfield          5383.285714\n",
      "Hilltop             5612.683761\n",
      "Lakeshore           5627.762376\n",
      "Riverside           5721.222222\n",
      "Sunset Boulevard    4979.322917\n",
      "Uptown              5507.867257\n",
      "West End            5413.582524\n",
      "Name: sales, dtype: float64\n",
      "\n",
      "Average sales by month:\n",
      " month\n",
      "April        5382.870130\n",
      "August       5343.767123\n",
      "December     5540.830000\n",
      "February     5330.814286\n",
      "January      5661.835443\n",
      "July         5368.367347\n",
      "June         5409.623529\n",
      "March        5532.978022\n",
      "May          5378.614286\n",
      "November     5398.266667\n",
      "October      5463.126316\n",
      "September    5562.500000\n",
      "Name: sales, dtype: float64\n"
     ]
    }
   ],
   "source": [
    "# Average sales by branch\n",
    "avg_sales_branch = df.groupby('branch')['sales'].mean()\n",
    "print(\"Average sales by branch:\\n\", avg_sales_branch)\n",
    "\n",
    "# Average sales by month\n",
    "avg_sales_month = df.groupby('month')['sales'].mean()\n",
    "print(\"\\nAverage sales by month:\\n\", avg_sales_month)\n"
   ]
  },
  {
   "cell_type": "code",
   "execution_count": 8,
   "id": "9a0f374a",
   "metadata": {},
   "outputs": [
    {
     "name": "stdout",
     "output_type": "stream",
     "text": [
      "\n",
      "Average sales by year:\n",
      " year\n",
      "2022    5494.886228\n",
      "2023    5540.549206\n",
      "2024    5327.062678\n",
      "Name: sales, dtype: float64\n",
      "\n",
      "Average sales by month and year:\n",
      " year  month    \n",
      "2022  April        6135.736842\n",
      "      August       5862.478261\n",
      "      December     5804.962963\n",
      "      February     5356.136364\n",
      "      January      5467.760000\n",
      "      July         5790.081081\n",
      "      June         4842.233333\n",
      "      March        5781.529412\n",
      "      May          5510.083333\n",
      "      November     5105.878788\n",
      "      October      5239.060606\n",
      "      September    5293.185185\n",
      "2023  April        4924.896552\n",
      "      August       5929.560000\n",
      "      December     5114.482759\n",
      "      February     4755.333333\n",
      "      January      5597.666667\n",
      "      July         5380.950000\n",
      "      June         5967.320000\n",
      "      March        5946.833333\n",
      "      May          5454.631579\n",
      "      November     6449.800000\n",
      "      October      5712.363636\n",
      "      September    5614.478261\n",
      "2024  April        5347.586207\n",
      "      August       4280.760000\n",
      "      December     5659.750000\n",
      "      February     5883.083333\n",
      "      January      5874.900000\n",
      "      July         4601.380952\n",
      "      June         5512.266667\n",
      "      March        4975.909091\n",
      "      May          5208.259259\n",
      "      November     5090.648649\n",
      "      October      5434.482759\n",
      "      September    5838.681818\n",
      "Name: sales, dtype: float64\n"
     ]
    }
   ],
   "source": [
    "\n",
    "# Average sales by year\n",
    "avg_sales_year = df.groupby('year')['sales'].mean()\n",
    "print(\"\\nAverage sales by year:\\n\", avg_sales_year)\n",
    "\n",
    "# Average sales by month and year\n",
    "avg_sales_month_year = df.groupby(['year', 'month'])['sales'].mean()\n",
    "print(\"\\nAverage sales by month and year:\\n\", avg_sales_month_year)"
   ]
  }
 ],
 "metadata": {
  "kernelspec": {
   "display_name": "Python 3",
   "language": "python",
   "name": "python3"
  },
  "language_info": {
   "codemirror_mode": {
    "name": "ipython",
    "version": 3
   },
   "file_extension": ".py",
   "mimetype": "text/x-python",
   "name": "python",
   "nbconvert_exporter": "python",
   "pygments_lexer": "ipython3",
   "version": "3.11.2"
  }
 },
 "nbformat": 4,
 "nbformat_minor": 5
}
