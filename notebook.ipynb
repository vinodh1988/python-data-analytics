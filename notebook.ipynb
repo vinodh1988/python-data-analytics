{
 "cells": [
  {
   "cell_type": "code",
   "execution_count": 8,
   "id": "6a9c57c0",
   "metadata": {},
   "outputs": [
    {
     "name": "stdout",
     "output_type": "stream",
     "text": [
      "{'Alice', 'Eve', 'David', 'Charlie', 'Bob'}\n",
      "Alice\n",
      "Eve\n",
      "David\n",
      "Charlie\n",
      "Bob\n",
      "This statement is outside the loop\n"
     ]
    }
   ],
   "source": [
    "names={\"Alice\", \"Bob\", \"Charlie\", \"David\", \"David\",\"Eve\"}\n",
    "print(names)\n",
    "# A set is an unordered collection of unique elements.\n",
    "#print(names[0])\n",
    "for x in names:\n",
    "    print(x)\n",
    "print(\"This statement is outside the loop\")"
   ]
  },
  {
   "cell_type": "code",
   "execution_count": 17,
   "id": "6af1d98f",
   "metadata": {},
   "outputs": [
    {
     "name": "stdout",
     "output_type": "stream",
     "text": [
      "['Alice', 'Grace', 'Charlie', 'Joe', 'David', 'Frank']\n",
      "['Alice', 'Grace', 'Charlie', 'Joe', 'David', 'Frank']\n",
      "['Alice', 'Charlie', 'David', 'Frank', 'Grace', 'Joe']\n",
      "['Alice', 'Charlie', 'David', 'Frank', 'Grace', 'Joe', 'Zara', 'Mahnaz', 'Ayan', 'Daisy']\n"
     ]
    }
   ],
   "source": [
    "print(names) # set\n",
    "names=list(names)\n",
    "print(names) # list\n",
    "names.sort()\n",
    "print(names) # sorted list\n",
    "# printing list\n",
    "fewnames=[\"Zara\",\"Mahnaz\",\"Ayan\",\"Daisy\"]\n",
    "names.extend(fewnames)\n",
    "print(names) # sorted list with fewnames added"
   ]
  },
  {
   "cell_type": "code",
   "execution_count": null,
   "id": "251a0b6d",
   "metadata": {},
   "outputs": [
    {
     "name": "stdout",
     "output_type": "stream",
     "text": [
      "('India', 'USA', 'UK', 'Germany', 'France')\n",
      "India\n"
     ]
    },
    {
     "ename": "TypeError",
     "evalue": "'tuple' object does not support item assignment",
     "output_type": "error",
     "traceback": [
      "\u001b[1;31m---------------------------------------------------------------------------\u001b[0m",
      "\u001b[1;31mTypeError\u001b[0m                                 Traceback (most recent call last)",
      "Cell \u001b[1;32mIn[18], line 4\u001b[0m\n\u001b[0;32m      2\u001b[0m \u001b[38;5;28mprint\u001b[39m(countries) \u001b[38;5;66;03m# tuple\u001b[39;00m\n\u001b[0;32m      3\u001b[0m \u001b[38;5;28mprint\u001b[39m(countries[\u001b[38;5;241m0\u001b[39m]) \u001b[38;5;66;03m# accessing tuple element\u001b[39;00m\n\u001b[1;32m----> 4\u001b[0m \u001b[43mcountries\u001b[49m\u001b[43m[\u001b[49m\u001b[38;5;241;43m0\u001b[39;49m\u001b[43m]\u001b[49m\u001b[38;5;241m=\u001b[39m\u001b[38;5;124m\"\u001b[39m\u001b[38;5;124mChina\u001b[39m\u001b[38;5;124m\"\u001b[39m \u001b[38;5;66;03m# tuples are immutable\u001b[39;00m\n",
      "\u001b[1;31mTypeError\u001b[0m: 'tuple' object does not support item assignment"
     ]
    }
   ],
   "source": [
    "countries=(\"India\",\"USA\",\"UK\",\"Germany\",\"France\")\n",
    "print(countries) # tuple\n",
    "print(countries[0]) # accessing tuple element\n",
    "# countries[0]=\"China\" # tuples are immutable"
   ]
  }
 ],
 "metadata": {
  "kernelspec": {
   "display_name": "Python 3",
   "language": "python",
   "name": "python3"
  },
  "language_info": {
   "codemirror_mode": {
    "name": "ipython",
    "version": 3
   },
   "file_extension": ".py",
   "mimetype": "text/x-python",
   "name": "python",
   "nbconvert_exporter": "python",
   "pygments_lexer": "ipython3",
   "version": "3.11.2"
  }
 },
 "nbformat": 4,
 "nbformat_minor": 5
}
